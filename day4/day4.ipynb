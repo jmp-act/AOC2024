{
 "cells": [
  {
   "cell_type": "markdown",
   "id": "7d796709",
   "metadata": {},
   "source": [
    "## Day 4"
   ]
  },
  {
   "cell_type": "code",
   "execution_count": 64,
   "id": "d233c259",
   "metadata": {},
   "outputs": [
    {
     "name": "stdout",
     "output_type": "stream",
     "text": [
      "[['X' 'M' 'M' ... 'M' 'M' 'M']\n",
      " ['M' 'S' 'M' ... 'A' 'A' 'M']\n",
      " ['A' 'A' 'M' ... 'M' 'X' 'X']\n",
      " ...\n",
      " ['A' 'M' 'A' ... 'S' 'X' 'X']\n",
      " ['M' 'A' 'A' ... 'M' 'A' 'X']\n",
      " ['A' 'M' 'S' ... 'M' 'X' 'M']]\n"
     ]
    }
   ],
   "source": [
    "import pandas as pd\n",
    "import numpy as np\n",
    "from itertools import product\n",
    "\n",
    "with open(\"data_day4.txt\", \"r\", encoding=\"utf-8\") as file:\n",
    "    lines = [list(line) for line in file.read().splitlines()]\n",
    "\n",
    "a = np.array(lines, dtype = str)\n",
    "\n",
    "# Print the resulting array\n",
    "print(a)\n"
   ]
  },
  {
   "cell_type": "code",
   "execution_count": 65,
   "id": "8cb3aa2b",
   "metadata": {},
   "outputs": [],
   "source": [
    "\n",
    "def no_words1(a,i,j):\n",
    "    ''' for a the wordsearch array, i and j integers, this function returns the number of complete 'XMAS' strings which start in position a[i][j]'''\n",
    "    \n",
    "    rows, cols = a.shape\n",
    "    def in_bounds(x, y):\n",
    "        return 0 <= x < rows and 0 <= y < cols\n",
    "    \n",
    "    counter = 0\n",
    "    combinations = list(product([-1, 0, 1], repeat=2))\n",
    "    for combo in combinations:\n",
    "        x, y = combo\n",
    "        if all(in_bounds(i+x*k,j+y*k) for k in range(4)):\n",
    "            if all(a[i+x*l][j+y*l] == \"XMAS\"[l] for l in range(4)):\n",
    "                counter += 1    \n",
    "    return counter"
   ]
  },
  {
   "cell_type": "code",
   "execution_count": 66,
   "id": "0670de33",
   "metadata": {},
   "outputs": [
    {
     "name": "stdout",
     "output_type": "stream",
     "text": [
      "2297\n"
     ]
    }
   ],
   "source": [
    "m, n = a.shape\n",
    "word_counter = 0\n",
    "\n",
    "coords = list(product(range(m),range(n)))\n",
    "\n",
    "for loc in coords:\n",
    "    i, j = loc\n",
    "    word_counter += no_words1(a,i,j)\n",
    "\n",
    "# task 1 output\n",
    "print(word_counter)"
   ]
  },
  {
   "cell_type": "code",
   "execution_count": null,
   "id": "856b1a53",
   "metadata": {},
   "outputs": [],
   "source": [
    "def no_words2(a,i,j):\n",
    "    ''' for a the wordsearch array, i and j integers, this function returns the number of complete 'MAS' Xs which centre in position a[i][j]'''\n",
    "    \n",
    "    rows, cols = a.shape\n",
    "    def in_bounds(x, y):\n",
    "        return 0 <= x < rows and 0 <= y < cols\n",
    "    \n",
    "    counter = 0\n",
    "    counter1 = 0\n",
    "    counter2 = 0\n",
    "    if in_bounds(i-1,j-1) & in_bounds(i+1,j-1) & in_bounds(i-1,j+1) & in_bounds(i+1,j+1):\n",
    "        if all(a[i+l][j+l] == \"MAS\"[l+1] for l in [-1,0,1]) | all(a[i-l][j-l]==\"MAS\"[l+1] for l in [-1,0,1]):\n",
    "            counter1 = 1\n",
    "        if all(a[i-l][j+l] == \"MAS\"[l+1] for l in [-1,0,1]) | all(a[i+l][j-l]==\"MAS\"[l+1] for l in [-1,0,1]):\n",
    "            counter2 = 1\n",
    "    if counter1 + counter2 == 2:\n",
    "        counter = 1\n",
    "    return counter"
   ]
  },
  {
   "cell_type": "code",
   "execution_count": 68,
   "id": "bf0c223a",
   "metadata": {},
   "outputs": [
    {
     "name": "stdout",
     "output_type": "stream",
     "text": [
      "1745\n"
     ]
    }
   ],
   "source": [
    "m, n = a.shape\n",
    "word_counter = 0\n",
    "\n",
    "coords = list(product(range(m),range(n)))\n",
    "\n",
    "for loc in coords:\n",
    "    i, j = loc\n",
    "    word_counter += no_words2(a,i,j)\n",
    "\n",
    "# task 2 output\n",
    "print(word_counter)"
   ]
  }
 ],
 "metadata": {
  "kernelspec": {
   "display_name": ".venv",
   "language": "python",
   "name": "python3"
  },
  "language_info": {
   "codemirror_mode": {
    "name": "ipython",
    "version": 3
   },
   "file_extension": ".py",
   "mimetype": "text/x-python",
   "name": "python",
   "nbconvert_exporter": "python",
   "pygments_lexer": "ipython3",
   "version": "3.13.4"
  }
 },
 "nbformat": 4,
 "nbformat_minor": 5
}
