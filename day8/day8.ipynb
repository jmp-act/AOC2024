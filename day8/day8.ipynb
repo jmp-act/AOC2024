{
 "cells": [
  {
   "cell_type": "markdown",
   "id": "46552d21",
   "metadata": {},
   "source": [
    "## Day 8"
   ]
  },
  {
   "cell_type": "code",
   "execution_count": 111,
   "id": "e65c1e3b",
   "metadata": {},
   "outputs": [],
   "source": [
    "from itertools import product\n",
    "\n",
    "with open(\"data_day8.txt\", \"r\") as file:\n",
    "    grid = [list(line.strip()) for line in file]\n",
    "\n",
    "m = len(grid)\n",
    "n = len(grid[0])"
   ]
  },
  {
   "cell_type": "code",
   "execution_count": 112,
   "id": "0ea9a1fd",
   "metadata": {},
   "outputs": [],
   "source": [
    "def antinodes1(a, b):\n",
    "    c = [2 * a[i] - b[i] for i in range(len(a))]\n",
    "    d = [2 * b[i] - a[i] for i in range(len(a))]\n",
    "    return [c, d]\n",
    "\n",
    "def antinodes2(a, b):\n",
    "    c, d = [],[]\n",
    "    for j in range(-2*max(m,n),2*max(m,n),1):\n",
    "        c += [[(j+1) * a[i] - j * b[i] for i in range(len(a))]]\n",
    "        d += [[(j+1) * b[i] - j * a[i] for i in range(len(a))]]\n",
    "    return [c, d]"
   ]
  },
  {
   "cell_type": "code",
   "execution_count": 113,
   "id": "fca5e3d1",
   "metadata": {},
   "outputs": [],
   "source": [
    "antenna_locs = {}\n",
    "\n",
    "# Loop through the grid to find unique characters and their positions\n",
    "for row_index, row in enumerate(grid):\n",
    "    for col_index, char in enumerate(row):\n",
    "        if char != '.':  # Exclude '.'\n",
    "            if char not in antenna_locs:\n",
    "                antenna_locs[char] = []\n",
    "            antenna_locs[char].append([row_index, col_index])"
   ]
  },
  {
   "cell_type": "code",
   "execution_count": 114,
   "id": "71d7b0be",
   "metadata": {},
   "outputs": [
    {
     "name": "stdout",
     "output_type": "stream",
     "text": [
      "252\n"
     ]
    }
   ],
   "source": [
    "antinode_list = []\n",
    "for antenna in antenna_locs:\n",
    "    for i in range(len(antenna_locs[antenna])):\n",
    "        for j in range(i + 1, len(antenna_locs[antenna])):\n",
    "            an = antinodes1(antenna_locs[antenna][i], antenna_locs[antenna][j])\n",
    "            for k in range(len(an)):\n",
    "                if (0 <= an[k][0] < m) and (0 <= an[k][1] < n):\n",
    "                    if [an[k][0], an[k][1]] not in antinode_list:\n",
    "                        antinode_list += [[an[k][0], an[k][1]]]\n",
    "\n",
    "# task 1 output\n",
    "print(len(antinode_list))"
   ]
  },
  {
   "cell_type": "code",
   "execution_count": 115,
   "id": "5103a8f9",
   "metadata": {},
   "outputs": [
    {
     "name": "stdout",
     "output_type": "stream",
     "text": [
      "839\n"
     ]
    }
   ],
   "source": [
    "antinode_list = []\n",
    "for antenna in antenna_locs:\n",
    "    for i in range(len(antenna_locs[antenna])):\n",
    "        for j in range(i + 1, len(antenna_locs[antenna])):\n",
    "            an = antinodes2(antenna_locs[antenna][i], antenna_locs[antenna][j])\n",
    "            bn = an[0]+an[1]\n",
    "            for k in range(len(bn)):\n",
    "                if (0 <= bn[k][0] < m) and (0 <= bn[k][1] < n):\n",
    "                    if [bn[k][0], bn[k][1]] not in antinode_list:\n",
    "                        antinode_list += [[bn[k][0], bn[k][1]]]\n",
    "\n",
    "# task 2 output\n",
    "print(len(antinode_list))"
   ]
  }
 ],
 "metadata": {
  "kernelspec": {
   "display_name": ".venv",
   "language": "python",
   "name": "python3"
  },
  "language_info": {
   "codemirror_mode": {
    "name": "ipython",
    "version": 3
   },
   "file_extension": ".py",
   "mimetype": "text/x-python",
   "name": "python",
   "nbconvert_exporter": "python",
   "pygments_lexer": "ipython3",
   "version": "3.13.4"
  }
 },
 "nbformat": 4,
 "nbformat_minor": 5
}
