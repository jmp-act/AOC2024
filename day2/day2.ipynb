{
 "cells": [
  {
   "cell_type": "markdown",
   "metadata": {},
   "source": [
    "## Day 2"
   ]
  },
  {
   "cell_type": "code",
   "execution_count": 43,
   "metadata": {},
   "outputs": [],
   "source": [
    "import pandas as pd\n",
    "import numpy as np"
   ]
  },
  {
   "cell_type": "code",
   "execution_count": 44,
   "metadata": {},
   "outputs": [],
   "source": [
    "data = pd.read_csv('data_day2.txt', sep=\"\\\\s+\", header=None)\n",
    "N = data.shape[1]"
   ]
  },
  {
   "cell_type": "code",
   "execution_count": 45,
   "metadata": {},
   "outputs": [],
   "source": [
    "def report_check(report):\n",
    "    diff = report.diff()\n",
    "    inc_ok = ((diff >= 1) & (diff <= 3)) | (diff.isna())\n",
    "    dec_ok = ((diff <= -1) & (diff >= -3)) | (diff.isna())\n",
    "    ok = inc_ok.all() | dec_ok.all()\n",
    "    return ok"
   ]
  },
  {
   "cell_type": "code",
   "execution_count": 46,
   "metadata": {},
   "outputs": [
    {
     "name": "stdout",
     "output_type": "stream",
     "text": [
      "663\n"
     ]
    }
   ],
   "source": [
    "report_count = 0\n",
    "i = 0\n",
    "while i < data.shape[0]:\n",
    "    if report_check(data.iloc[i]) == np.True_:\n",
    "        report_count += 1\n",
    "    i += 1\n",
    "\n",
    "# task 1 output\n",
    "print(report_count)"
   ]
  },
  {
   "cell_type": "code",
   "execution_count": null,
   "metadata": {},
   "outputs": [
    {
     "name": "stdout",
     "output_type": "stream",
     "text": [
      "692\n"
     ]
    }
   ],
   "source": [
    "report_count = 0\n",
    "i = 0\n",
    "while i < data.shape[0]:\n",
    "    if report_check(data.iloc[i]) == np.True_:\n",
    "        report_count += 1\n",
    "        i += 1\n",
    "    else:\n",
    "        j = 0\n",
    "        while j < N:\n",
    "            if report_check(data.iloc[i].drop(j))==np.True_:\n",
    "                report_count += 1\n",
    "                j = N\n",
    "            else:\n",
    "                j += 1\n",
    "        i += 1\n",
    "\n",
    "# task 2 output\n",
    "print(report_count)  \n",
    "    "
   ]
  }
 ],
 "metadata": {
  "kernelspec": {
   "display_name": ".venv",
   "language": "python",
   "name": "python3"
  },
  "language_info": {
   "codemirror_mode": {
    "name": "ipython",
    "version": 3
   },
   "file_extension": ".py",
   "mimetype": "text/x-python",
   "name": "python",
   "nbconvert_exporter": "python",
   "pygments_lexer": "ipython3",
   "version": "3.13.4"
  }
 },
 "nbformat": 4,
 "nbformat_minor": 2
}
