{
 "cells": [
  {
   "cell_type": "markdown",
   "id": "70d9f06c",
   "metadata": {},
   "source": [
    "## Day 9"
   ]
  },
  {
   "cell_type": "code",
   "execution_count": 1,
   "id": "eac0730b",
   "metadata": {},
   "outputs": [],
   "source": [
    "with open(\"data_day9.txt\", \"r\") as file:\n",
    "    input = file.read().replace(\"\\n\", \"\")"
   ]
  },
  {
   "cell_type": "code",
   "execution_count": 2,
   "id": "36c7340d",
   "metadata": {},
   "outputs": [],
   "source": [
    "list_1 = []\n",
    "for i in range(len(input)):\n",
    "    if i % 2 == 0:\n",
    "        list_1 += int(input[i]) * [str(int(i/2))]\n",
    "    else:\n",
    "        list_1 += int(input[i]) * [\".\"]\n",
    "\n",
    "list_2 = []\n",
    "for i in range(len(input)):\n",
    "    if i % 2 == 0:\n",
    "        list_2 += [[int(i/2),int(input[i])]]\n",
    "    else:\n",
    "        list_2 += [[\".\",int(input[i])]]\n",
    "\n",
    "def insert_block(insert,dots):\n",
    "    extra_dots = dots[1] - insert[1]\n",
    "    if extra_dots == 0:\n",
    "        output = insert\n",
    "    else:\n",
    "        output = [insert, [\".\", extra_dots]]\n",
    "    return output"
   ]
  },
  {
   "cell_type": "code",
   "execution_count": 3,
   "id": "771da46b",
   "metadata": {},
   "outputs": [
    {
     "name": "stdout",
     "output_type": "stream",
     "text": [
      "6242766523059\n"
     ]
    }
   ],
   "source": [
    "i = 0\n",
    "j = len(list_1) - 1\n",
    "\n",
    "while i < j:\n",
    "    # Move j left until we find a non-dot character\n",
    "    while j > i and list_1[j] == \".\":\n",
    "        j -= 1\n",
    "    \n",
    "    # Move i right until we find a dot\n",
    "    while i < j and list_1[i] != \".\":\n",
    "        i += 1\n",
    "\n",
    "    if i < j:\n",
    "        list_1[i] = list_1[j]\n",
    "        list_1[j] = \".\"\n",
    "\n",
    "checksum = 0\n",
    "for i in range(len(list_1)):\n",
    "    if list_1[i] == \".\":\n",
    "        pass\n",
    "    else:\n",
    "        checksum += i * int(list_1[i])\n",
    "\n",
    "# task 1 output\n",
    "print(checksum)"
   ]
  },
  {
   "cell_type": "code",
   "execution_count": 4,
   "id": "c7c1c272",
   "metadata": {},
   "outputs": [
    {
     "name": "stdout",
     "output_type": "stream",
     "text": [
      "6272188244509\n"
     ]
    }
   ],
   "source": [
    "j = max([x[0] for x in list_2 if x[0] != \".\"])\n",
    "\n",
    "while j > 0:\n",
    "    for i in range(len(list_2)):\n",
    "        if list_2[i][0] == j:\n",
    "            j_pos = i\n",
    "    i = 0\n",
    "    insert_length = list_2[j_pos][1]\n",
    "    while i < j_pos:\n",
    "        if (list_2[i][0] == \".\") and (list_2[i][1] >= insert_length):\n",
    "            ib = insert_block(list_2[j_pos], list_2[i])\n",
    "            if list_2[j_pos][1] == list_2[i][1]:\n",
    "                list_2.pop(i)\n",
    "                list_2.insert(i,ib)\n",
    "                list_2[j_pos] = list_2[j_pos][:] \n",
    "                list_2[j_pos][0] = \".\"\n",
    "            else:\n",
    "                list_2.pop(i)\n",
    "                list_2.insert(i,ib[1])\n",
    "                list_2.insert(i,ib[0])\n",
    "                list_2[j_pos+1] = list_2[j_pos+1][:]\n",
    "                list_2[j_pos+1][0] = \".\"\n",
    "            i = j_pos\n",
    "        else:\n",
    "            i += 1\n",
    "    j -= 1\n",
    "\n",
    "checksum = 0\n",
    "counter = 0\n",
    "for j in range(len(list_2)):\n",
    "    for k in range(list_2[j][1]):\n",
    "        if list_2[j][0] == \".\":\n",
    "            counter += 1\n",
    "        else:\n",
    "            checksum += list_2[j][0] * counter\n",
    "            counter += 1\n",
    "print(checksum)"
   ]
  }
 ],
 "metadata": {
  "kernelspec": {
   "display_name": ".venv",
   "language": "python",
   "name": "python3"
  },
  "language_info": {
   "codemirror_mode": {
    "name": "ipython",
    "version": 3
   },
   "file_extension": ".py",
   "mimetype": "text/x-python",
   "name": "python",
   "nbconvert_exporter": "python",
   "pygments_lexer": "ipython3",
   "version": "3.13.4"
  }
 },
 "nbformat": 4,
 "nbformat_minor": 5
}
