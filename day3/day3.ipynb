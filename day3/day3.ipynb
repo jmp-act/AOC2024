{
 "cells": [
  {
   "cell_type": "markdown",
   "metadata": {},
   "source": [
    "## Day 3"
   ]
  },
  {
   "cell_type": "code",
   "execution_count": 26,
   "metadata": {},
   "outputs": [],
   "source": [
    "import pandas as pd\n",
    "import numpy as np\n",
    "import re"
   ]
  },
  {
   "cell_type": "code",
   "execution_count": null,
   "metadata": {},
   "outputs": [
    {
     "name": "stdout",
     "output_type": "stream",
     "text": [
      "166905464\n"
     ]
    }
   ],
   "source": [
    "pattern = r\"mul\\((\\d{1,3}),(\\d{1,3})\\)\"\n",
    "with open(\"data_day3.txt\", \"r\", encoding=\"utf-8\") as file:\n",
    "    data_string = file.read()\n",
    "\n",
    "matches = re.findall(pattern, data_string)\n",
    "\n",
    "total_sum = 0\n",
    "for match in matches:\n",
    "    total_sum += int(match[0]) * int(match[1])\n",
    "\n",
    "# task 1 output\n",
    "print(total_sum)"
   ]
  },
  {
   "cell_type": "code",
   "execution_count": null,
   "metadata": {},
   "outputs": [
    {
     "name": "stdout",
     "output_type": "stream",
     "text": [
      "72948684\n"
     ]
    }
   ],
   "source": [
    "pattern = r\"do\\(\\)|don't\\(\\)|mul\\(\\d{1,3},\\d{1,3}\\)\"\n",
    "\n",
    "# Read file contents\n",
    "with open(\"data_day3.txt\", \"r\", encoding=\"utf-8\") as file:\n",
    "    data_string = file.read()\n",
    "\n",
    "# Extract matches from the data\n",
    "matches = re.findall(pattern, data_string)\n",
    "\n",
    "total_sum = 0\n",
    "do_multiplier = 1\n",
    "i = 0\n",
    "while i < len(matches):\n",
    "    if matches[i] == \"do()\":\n",
    "        do_multiplier = 1\n",
    "    elif matches[i] == \"don't()\":\n",
    "        do_multiplier = 0\n",
    "    else:\n",
    "        x , y = re.search(r\"mul\\((\\d+),(\\d+)\\)\", matches[i]).groups()\n",
    "        total_sum += do_multiplier*(int(x)*int(y))\n",
    "    i += 1\n",
    "\n",
    "# task 2 output\n",
    "print(total_sum)"
   ]
  },
  {
   "cell_type": "code",
   "execution_count": null,
   "metadata": {},
   "outputs": [],
   "source": []
  }
 ],
 "metadata": {
  "kernelspec": {
   "display_name": ".venv",
   "language": "python",
   "name": "python3"
  },
  "language_info": {
   "codemirror_mode": {
    "name": "ipython",
    "version": 3
   },
   "file_extension": ".py",
   "mimetype": "text/x-python",
   "name": "python",
   "nbconvert_exporter": "python",
   "pygments_lexer": "ipython3",
   "version": "3.13.4"
  }
 },
 "nbformat": 4,
 "nbformat_minor": 2
}
