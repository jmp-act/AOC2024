{
 "cells": [
  {
   "cell_type": "markdown",
   "id": "df09c88a",
   "metadata": {},
   "source": [
    "## Day 7"
   ]
  },
  {
   "cell_type": "code",
   "execution_count": 1,
   "id": "f8f02ca5",
   "metadata": {},
   "outputs": [],
   "source": [
    "targets = []\n",
    "inputs = []\n",
    "\n",
    "# Read the text file and process each line\n",
    "with open(\"data_day7.txt\", \"r\") as file:\n",
    "    for line in file:\n",
    "        target, input_values = line.split(\":\")\n",
    "        targets.append(int(target.strip()))\n",
    "        inputs.append(list(map(int, input_values.split())))"
   ]
  },
  {
   "cell_type": "code",
   "execution_count": 2,
   "id": "c25d22ce",
   "metadata": {},
   "outputs": [
    {
     "name": "stdout",
     "output_type": "stream",
     "text": [
      "1399219271639\n"
     ]
    }
   ],
   "source": [
    "def poss_outputs1(outputs_current, next_val):\n",
    "    outputs_next = [x + next_val for x in outputs_current] + [x * next_val for x in outputs_current]\n",
    "    return outputs_next\n",
    "\n",
    "result_counter = 0\n",
    "for i in range(len(targets)):\n",
    "    target = targets[i]\n",
    "    result_flag = False\n",
    "    j = 1\n",
    "    outputs = [inputs[i][0]]\n",
    "    while j < len(inputs[i]):\n",
    "        outputs = poss_outputs1(outputs, inputs[i][j])\n",
    "        j += 1\n",
    "    if target in outputs:\n",
    "        result_flag = True\n",
    "        result_counter += target\n",
    "\n",
    "# task 1 output\n",
    "print(result_counter)"
   ]
  },
  {
   "cell_type": "code",
   "execution_count": 3,
   "id": "aa94e0da",
   "metadata": {},
   "outputs": [
    {
     "name": "stdout",
     "output_type": "stream",
     "text": [
      "275791737999003\n"
     ]
    }
   ],
   "source": [
    "def poss_outputs2(outputs_current, next_val):\n",
    "    outputs_next = [x + next_val for x in outputs_current] + [x * next_val for x in outputs_current] + [int(str(x)+str(next_val)) for x in outputs_current]\n",
    "    return outputs_next\n",
    "\n",
    "result_counter = 0\n",
    "for i in range(len(targets)):\n",
    "    target = targets[i]\n",
    "    result_flag = False\n",
    "    j = 1\n",
    "    outputs = [inputs[i][0]]\n",
    "    while j < len(inputs[i]):\n",
    "        outputs = poss_outputs2(outputs, inputs[i][j])\n",
    "        j += 1\n",
    "    if target in outputs:\n",
    "        result_flag = True\n",
    "        result_counter += target\n",
    "\n",
    "# task 2 output\n",
    "print(result_counter)"
   ]
  }
 ],
 "metadata": {
  "kernelspec": {
   "display_name": ".venv",
   "language": "python",
   "name": "python3"
  },
  "language_info": {
   "codemirror_mode": {
    "name": "ipython",
    "version": 3
   },
   "file_extension": ".py",
   "mimetype": "text/x-python",
   "name": "python",
   "nbconvert_exporter": "python",
   "pygments_lexer": "ipython3",
   "version": "3.13.4"
  }
 },
 "nbformat": 4,
 "nbformat_minor": 5
}
