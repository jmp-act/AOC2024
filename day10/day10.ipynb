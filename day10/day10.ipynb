{
 "cells": [
  {
   "cell_type": "markdown",
   "id": "70d9f06c",
   "metadata": {},
   "source": [
    "## Day 10"
   ]
  },
  {
   "cell_type": "code",
   "execution_count": 101,
   "id": "eac0730b",
   "metadata": {},
   "outputs": [],
   "source": [
    "from itertools import product\n",
    "\n",
    "with open(\"data_day10.txt\", \"r\") as file:\n",
    "    grid = [list(line.strip()) for line in file]\n",
    "\n",
    "m, n = len(grid), len(grid[0])"
   ]
  },
  {
   "cell_type": "code",
   "execution_count": 102,
   "id": "fc1b261c",
   "metadata": {},
   "outputs": [],
   "source": [
    "def next(end_point, grid):\n",
    "    i, j = end_point[0], end_point[1]\n",
    "    value_current = int(grid[i][j])\n",
    "    end_points_next = []\n",
    "\n",
    "    directions = [(1, 0), (-1, 0), (0, 1), (0, -1)]\n",
    "    m, n = len(grid), len(grid[0])\n",
    "\n",
    "    for di, dj in directions:\n",
    "        ni, nj = i + di, j + dj\n",
    "        if 0 <= ni < m and 0 <= nj < n:\n",
    "            if int(grid[ni][nj]) == value_current + 1:\n",
    "                end_points_next.append([ni, nj])\n",
    "\n",
    "    return end_points_next"
   ]
  },
  {
   "cell_type": "code",
   "execution_count": 103,
   "id": "7d9552d4",
   "metadata": {},
   "outputs": [],
   "source": [
    "# func for part 1\n",
    "def end_points_iter(end_points_list, grid):\n",
    "    end_points_new = []\n",
    "    for end_point in end_points_list:\n",
    "        for coord in next(end_point,grid):\n",
    "            if coord not in end_points_new:\n",
    "                end_points_new.append(coord)\n",
    "    return end_points_new"
   ]
  },
  {
   "cell_type": "code",
   "execution_count": 104,
   "id": "a8d88f9c",
   "metadata": {},
   "outputs": [],
   "source": [
    "# func for part 2\n",
    "def end_points_iter_unique(end_points_list, grid):\n",
    "    end_points_new = []\n",
    "    for end_point in end_points_list:\n",
    "        for coord in next(end_point,grid):\n",
    "                end_points_new.append(coord)\n",
    "    return end_points_new"
   ]
  },
  {
   "cell_type": "code",
   "execution_count": 105,
   "id": "8be52a57",
   "metadata": {},
   "outputs": [
    {
     "name": "stdout",
     "output_type": "stream",
     "text": [
      "629\n"
     ]
    }
   ],
   "source": [
    "start_list = [[i,j] for [i,j] in product(range(m), range(n)) if int(grid[i][j]) == 0]\n",
    "\n",
    "sum_count = 0\n",
    "\n",
    "for start_pos in start_list:\n",
    "    end_points_list = [start_pos]\n",
    "    value_counter = 0\n",
    "    \n",
    "    while value_counter <= 8:\n",
    "        if end_points_list == []:\n",
    "            value_counter = 9\n",
    "        else:\n",
    "            end_points_list = end_points_iter(end_points_list, grid)\n",
    "            value_counter += 1\n",
    "\n",
    "    sum_count += len(end_points_list)\n",
    "\n",
    "# task 1 output\n",
    "print(sum_count)\n"
   ]
  },
  {
   "cell_type": "code",
   "execution_count": 106,
   "id": "0d70169d",
   "metadata": {},
   "outputs": [
    {
     "name": "stdout",
     "output_type": "stream",
     "text": [
      "1242\n"
     ]
    }
   ],
   "source": [
    "start_list = [[i,j] for [i,j] in product(range(m), range(n)) if int(grid[i][j]) == 0]\n",
    "\n",
    "sum_count = 0\n",
    "\n",
    "for start_pos in start_list:\n",
    "    end_points_list = [start_pos]\n",
    "    value_counter = 0\n",
    "    \n",
    "    while value_counter <= 8:\n",
    "        if end_points_list == []:\n",
    "            value_counter = 9\n",
    "        else:\n",
    "            end_points_list = end_points_iter_unique(end_points_list, grid)\n",
    "            value_counter += 1\n",
    "\n",
    "    sum_count += len(end_points_list)\n",
    "\n",
    "# task 2 output\n",
    "print(sum_count)\n"
   ]
  }
 ],
 "metadata": {
  "kernelspec": {
   "display_name": ".venv",
   "language": "python",
   "name": "python3"
  },
  "language_info": {
   "codemirror_mode": {
    "name": "ipython",
    "version": 3
   },
   "file_extension": ".py",
   "mimetype": "text/x-python",
   "name": "python",
   "nbconvert_exporter": "python",
   "pygments_lexer": "ipython3",
   "version": "3.13.4"
  }
 },
 "nbformat": 4,
 "nbformat_minor": 5
}
