{
 "cells": [
  {
   "cell_type": "markdown",
   "id": "70d9f06c",
   "metadata": {},
   "source": [
    "## Day 11"
   ]
  },
  {
   "cell_type": "code",
   "execution_count": 36,
   "id": "eac0730b",
   "metadata": {},
   "outputs": [],
   "source": [
    "from itertools import product\n",
    "\n",
    "with open(\"data_day11.txt\", \"r\") as file:\n",
    "    number_list = list(map(int, file.read().split()))"
   ]
  },
  {
   "cell_type": "code",
   "execution_count": 37,
   "id": "b0fb7ef7",
   "metadata": {},
   "outputs": [],
   "source": [
    "def split_indiv(number):\n",
    "    r = len(str(number)) % 2\n",
    "    h = len(str(number)) // 2\n",
    "    \n",
    "    if number == 0:\n",
    "        output = [1]\n",
    "    elif r == 0:\n",
    "        a = str(number)[:h]\n",
    "        b = str(number)[h:]\n",
    "        output = [int(a), int(b)]\n",
    "    else:\n",
    "        output = [2024 * number]\n",
    "    return output"
   ]
  },
  {
   "cell_type": "code",
   "execution_count": null,
   "id": "cca1ff65",
   "metadata": {},
   "outputs": [],
   "source": [
    "no_blinks = 25\n",
    "counter = 0\n",
    "list_blink = number_list\n",
    "\n",
    "while counter < no_blinks:\n",
    "    list_blink_next = []\n",
    "    for number in list_blink:\n",
    "        list_blink_next += split_indiv(number)\n",
    "    list_blink = list_blink_next     \n",
    "    counter += 1\n",
    "\n",
    "print(list_blink)\n",
    "print(len(list_blink))"
   ]
  }
 ],
 "metadata": {
  "kernelspec": {
   "display_name": ".venv",
   "language": "python",
   "name": "python3"
  },
  "language_info": {
   "codemirror_mode": {
    "name": "ipython",
    "version": 3
   },
   "file_extension": ".py",
   "mimetype": "text/x-python",
   "name": "python",
   "nbconvert_exporter": "python",
   "pygments_lexer": "ipython3",
   "version": "3.13.4"
  }
 },
 "nbformat": 4,
 "nbformat_minor": 5
}
