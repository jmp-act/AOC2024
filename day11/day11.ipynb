{
 "cells": [
  {
   "cell_type": "markdown",
   "id": "70d9f06c",
   "metadata": {},
   "source": [
    "## Day 11"
   ]
  },
  {
   "cell_type": "code",
   "execution_count": 1,
   "id": "eac0730b",
   "metadata": {},
   "outputs": [],
   "source": [
    "from itertools import product\n",
    "from functools import cache\n",
    "\n",
    "with open(\"data_day11.txt\", \"r\") as file:\n",
    "    number_list = list(map(int, file.read().split()))"
   ]
  },
  {
   "cell_type": "code",
   "execution_count": 2,
   "id": "b0fb7ef7",
   "metadata": {},
   "outputs": [],
   "source": [
    "def split_indiv(number):\n",
    "    r = len(str(number)) % 2\n",
    "    h = len(str(number)) // 2\n",
    "    \n",
    "    if number == 0:\n",
    "        output = [1]\n",
    "    elif r == 0:\n",
    "        a = str(number)[:h]\n",
    "        b = str(number)[h:]\n",
    "        output = [int(a), int(b)]\n",
    "    else:\n",
    "        output = [2024 * number]\n",
    "    return output"
   ]
  },
  {
   "cell_type": "code",
   "execution_count": 3,
   "id": "cca1ff65",
   "metadata": {},
   "outputs": [
    {
     "name": "stdout",
     "output_type": "stream",
     "text": [
      "233050\n"
     ]
    }
   ],
   "source": [
    "no_blinks = 25\n",
    "counter = 0\n",
    "list_blink = number_list\n",
    "\n",
    "while counter < no_blinks:\n",
    "    list_blink_next = []\n",
    "    for number in list_blink:\n",
    "        list_blink_next += split_indiv(number)\n",
    "    list_blink = list_blink_next     \n",
    "    counter += 1\n",
    "\n",
    "print(len(list_blink))"
   ]
  },
  {
   "cell_type": "code",
   "execution_count": 4,
   "id": "c54e76e0",
   "metadata": {},
   "outputs": [
    {
     "name": "stdout",
     "output_type": "stream",
     "text": [
      "276661131175807\n"
     ]
    }
   ],
   "source": [
    "total_blinks = 75\n",
    "\n",
    "@cache\n",
    "def stones(number, blinks):\n",
    "    if blinks == 0:\n",
    "        output = 1\n",
    "    elif number == 0:\n",
    "        output = stones(1, blinks - 1)\n",
    "    elif len(str(number)) % 2 == 0:\n",
    "        left = int(str(number)[:len(str(number))//2])\n",
    "        right = int(str(number)[len(str(number))//2:])\n",
    "        output = stones(left, blinks - 1) + stones(right, blinks - 1)\n",
    "    else:\n",
    "        output = stones(number * 2024, blinks - 1)\n",
    "    return output\n",
    "    \n",
    "print(sum([stones(number, total_blinks) for number in number_list]))"
   ]
  }
 ],
 "metadata": {
  "kernelspec": {
   "display_name": ".venv",
   "language": "python",
   "name": "python3"
  },
  "language_info": {
   "codemirror_mode": {
    "name": "ipython",
    "version": 3
   },
   "file_extension": ".py",
   "mimetype": "text/x-python",
   "name": "python",
   "nbconvert_exporter": "python",
   "pygments_lexer": "ipython3",
   "version": "3.13.4"
  }
 },
 "nbformat": 4,
 "nbformat_minor": 5
}
