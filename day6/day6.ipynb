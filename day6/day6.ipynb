{
 "cells": [
  {
   "cell_type": "markdown",
   "id": "22b750c3",
   "metadata": {},
   "source": [
    "## Day 6"
   ]
  },
  {
   "cell_type": "code",
   "execution_count": 54,
   "id": "ac39e553",
   "metadata": {},
   "outputs": [],
   "source": [
    "import numpy as np\n",
    "import copy\n",
    "from tqdm import tqdm\n",
    "from itertools import product\n",
    "\n",
    "with open(\"data_day6_grid.txt\", 'r') as file:\n",
    "    lines = [list(line.strip()) for line in file]\n",
    "\n",
    "grid_init = np.array(lines, dtype = str)\n",
    "\n",
    "def in_bounds(x, y, grid):\n",
    "    rows, cols = grid.shape\n",
    "    return 0 <= x < rows and 0 <= y < cols\n",
    "\n",
    "def one_step(grid, pos, dir):\n",
    "    i, j = pos\n",
    "    a, b = dir\n",
    "    grid[i][j] = \"X\"\n",
    "    R = np.array([[0, 1], [-1, 0]])\n",
    "    i_candidate, j_candidate = np.array([i,j]) + np.array([a,b])\n",
    "    if not in_bounds(i_candidate, j_candidate, grid):\n",
    "        pos_next = grid.shape\n",
    "        dir_next = dir\n",
    "    elif grid[i_candidate][j_candidate] == \"#\":\n",
    "        pos_next = i, j\n",
    "        dir_next = np.matmul(R, dir)\n",
    "    else:\n",
    "        pos_next = i_candidate, j_candidate\n",
    "        dir_next = dir\n",
    "    return grid, pos_next, dir_next       \n"
   ]
  },
  {
   "cell_type": "code",
   "execution_count": 55,
   "id": "082bc802",
   "metadata": {},
   "outputs": [
    {
     "name": "stdout",
     "output_type": "stream",
     "text": [
      "4515\n"
     ]
    }
   ],
   "source": [
    "m,n = grid_init.shape\n",
    "for i, j in product(range(m),range(n)):\n",
    "    if grid_init[i][j] == \"^\":\n",
    "        i_init, j_init = i,j\n",
    "\n",
    "pos_init = i_init, j_init\n",
    "dir_init = np.array([-1,0])\n",
    "\n",
    "grid = grid_init\n",
    "pos = pos_init\n",
    "dir = dir_init\n",
    "\n",
    "while pos != grid.shape:\n",
    "    grid, pos, dir = one_step(grid,pos,dir)\n",
    "\n",
    "counter = 0\n",
    "for i, j in product(range(m),range(n)):\n",
    "    if grid[i][j] == \"X\":\n",
    "        counter += 1\n",
    "\n",
    "# task 1 output\n",
    "print(counter)\n"
   ]
  },
  {
   "cell_type": "code",
   "execution_count": null,
   "id": "a912bc41",
   "metadata": {},
   "outputs": [
    {
     "name": "stderr",
     "output_type": "stream",
     "text": [
      "Processing (i, j) pairs: 100%|██████████| 16900/16900 [09:36<00:00, 29.29it/s] "
     ]
    },
    {
     "name": "stdout",
     "output_type": "stream",
     "text": [
      "Total loops detected: 1309\n"
     ]
    },
    {
     "name": "stderr",
     "output_type": "stream",
     "text": [
      "\n"
     ]
    }
   ],
   "source": [
    "import numpy as np\n",
    "from tqdm import tqdm\n",
    "\n",
    "# Define Rotation map\n",
    "ROTATE_MAP = {(-1, 0): (0, 1), (0, 1): (1, 0), (1, 0): (0, -1), (0, -1): (-1, 0)}\n",
    "\n",
    "def one_step_repeatcheck(pos, dir, history_set, loop_status, grid):\n",
    "    i, j = pos\n",
    "    a, b = dir\n",
    "\n",
    "    m, n = grid.shape\n",
    "    if not (0 <= i + a < m and 0 <= j + b < n):\n",
    "        pos_next = (-1, -1)\n",
    "        dir_next = dir\n",
    "    elif grid[i + a, j + b] == \"#\":\n",
    "        pos_next = (i, j)\n",
    "        dir_next = np.array(ROTATE_MAP.get(tuple(dir), dir))\n",
    "    else:\n",
    "        pos_next = (i + a, j + b)\n",
    "        dir_next = dir\n",
    "\n",
    "    history_key = (tuple(pos_next), tuple(dir_next))\n",
    "    if history_key in history_set:\n",
    "        loop_status = True\n",
    "    history_set.add(history_key)\n",
    "\n",
    "    return pos_next, dir_next, history_set, loop_status\n",
    "\n",
    "\n",
    "# Main loop execution\n",
    "m, n = grid_init.shape\n",
    "loop_counter = 0\n",
    "\n",
    "# Find initial position\n",
    "for i, j in product(range(m), range(n)):\n",
    "    if grid_init[i][j] == \"^\":\n",
    "        i_init, j_init = i, j\n",
    "\n",
    "pos_init = (i_init, j_init)\n",
    "dir_init = np.array([-1, 0])\n",
    "grid = grid_init\n",
    "\n",
    "loop_counter = 0\n",
    "progress_bar = tqdm(product(range(m), range(n)), desc=\"Processing (i, j) pairs\", total=m * n)\n",
    "\n",
    "for i, j in progress_bar:\n",
    "    obstacle_cell = grid[i, j]\n",
    "\n",
    "    if (i, j) != (i_init, j_init):\n",
    "        grid[i, j] = \"#\"\n",
    "\n",
    "    pos = pos_init\n",
    "    dir = dir_init\n",
    "    history_set = set()\n",
    "    loop_status = False\n",
    "\n",
    "    while (0 <= pos[0] < m and 0 <= pos[1] < n) and (not loop_status):\n",
    "        pos, dir, history_set, loop_status = one_step_repeatcheck(pos, dir, history_set, loop_status, grid)\n",
    "\n",
    "    if loop_status:\n",
    "        loop_counter += 1\n",
    "\n",
    "    grid[i, j] = obstacle_cell  # Restore original grid state\n",
    "\n",
    "print(\"Total loops detected:\", loop_counter)\n"
   ]
  }
 ],
 "metadata": {
  "kernelspec": {
   "display_name": ".venv",
   "language": "python",
   "name": "python3"
  },
  "language_info": {
   "codemirror_mode": {
    "name": "ipython",
    "version": 3
   },
   "file_extension": ".py",
   "mimetype": "text/x-python",
   "name": "python",
   "nbconvert_exporter": "python",
   "pygments_lexer": "ipython3",
   "version": "3.13.4"
  }
 },
 "nbformat": 4,
 "nbformat_minor": 5
}
